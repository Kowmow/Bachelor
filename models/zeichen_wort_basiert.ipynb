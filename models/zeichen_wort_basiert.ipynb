{
 "cells": [
  {
   "cell_type": "code",
   "id": "initial_id",
   "metadata": {
    "collapsed": true,
    "ExecuteTime": {
     "end_time": "2024-09-03T22:40:43.842776Z",
     "start_time": "2024-09-03T22:40:41.572942Z"
    }
   },
   "source": [
    "# Import necessary libraries\n",
    "import time\n",
    "from sklearn.feature_extraction.text import CountVectorizer\n",
    "from sklearn.metrics import jaccard_score\n",
    "import numpy as np\n",
    "\n",
    "# Funktion zur Berechnung des Jaccard-Koeffizienten\n",
    "def jaccard_similarity(text1, text2):\n",
    "    # Startzeit messen\n",
    "    start_time = time.time()\n",
    "    \n",
    "    # Vektorisierung der Texte\n",
    "    vectorizer = CountVectorizer(binary=True).fit([text1, text2])\n",
    "    vector1, vector2 = vectorizer.transform([text1, text2])\n",
    "    \n",
    "    # Berechnung des Jaccard-Koeffizienten\n",
    "    similarity = jaccard_score(vector1.toarray()[0], vector2.toarray()[0])\n",
    "    \n",
    "    # Endzeit messen und berechnete Zeit\n",
    "    end_time = time.time()\n",
    "    elapsed_time = end_time - start_time\n",
    "    \n",
    "    return similarity, elapsed_time\n",
    "\n",
    "# Beispieltexte\n",
    "text1 = \"Dies ist ein Beispieltext.\"\n",
    "text2 = \"Dies ist ein anderer Beispieltext.\"\n",
    "\n",
    "# Berechnung des Jaccard-Koeffizienten und der Zeit\n",
    "similarity, elapsed_time = jaccard_similarity(text1, text2)\n",
    "\n",
    "print(f\"Jaccard-Koeffizient: {similarity}\")\n",
    "print(f\"Berechnungszeit: {elapsed_time:.6f} Sekunden\")"
   ],
   "outputs": [
    {
     "name": "stdout",
     "output_type": "stream",
     "text": [
      "Jaccard-Koeffizient: 0.8\n",
      "Berechnungszeit: 0.001520 Sekunden\n"
     ]
    }
   ],
   "execution_count": 1
  },
  {
   "metadata": {
    "ExecuteTime": {
     "end_time": "2024-09-03T23:00:32.745986Z",
     "start_time": "2024-09-03T23:00:32.625797Z"
    }
   },
   "cell_type": "code",
   "source": [
    "# Import necessary libraries\n",
    "import time\n",
    "from Levenshtein import distance as levenshtein_distance\n",
    "\n",
    "# Funktion zur Berechnung der Levenshtein-Distanz\n",
    "def levenshtein_similarity(text1, text2):\n",
    "    # Startzeit messen\n",
    "    start_time = time.time()\n",
    "    \n",
    "    # Berechnung der Levenshtein-Distanz\n",
    "    distance = levenshtein_distance(text1, text2)\n",
    "    \n",
    "    # Endzeit messen und berechnete Zeit\n",
    "    end_time = time.time()\n",
    "    elapsed_time = end_time - start_time\n",
    "    \n",
    "    return distance, elapsed_time\n",
    "\n",
    "# Beispieltexte\n",
    "text1 = \"Dies ist ein Beispieltext.\"\n",
    "text2 = \"Dies ist ein anderer Beispieltext.\"\n",
    "\n",
    "# Berechnung der Levenshtein-Distanz und der Zeit\n",
    "levenshtein_dist, levenshtein_time = levenshtein_similarity(text1, text2)\n",
    "\n",
    "# Ergebnisse anzeigen\n",
    "print(f\"Levenshtein-Distanz: {levenshtein_dist}\")\n",
    "print(f\"Berechnungszeit Levenshtein: {levenshtein_time:.6f} Sekunden\")"
   ],
   "id": "384e129174fd4926",
   "outputs": [
    {
     "name": "stdout",
     "output_type": "stream",
     "text": [
      "Levenshtein-Distanz: 8\n",
      "Berechnungszeit Levenshtein: 0.000000 Sekunden\n"
     ]
    }
   ],
   "execution_count": 2
  },
  {
   "metadata": {},
   "cell_type": "code",
   "outputs": [],
   "execution_count": null,
   "source": "",
   "id": "a6df37ebb210eb84"
  }
 ],
 "metadata": {
  "kernelspec": {
   "display_name": "Python 3",
   "language": "python",
   "name": "python3"
  },
  "language_info": {
   "codemirror_mode": {
    "name": "ipython",
    "version": 2
   },
   "file_extension": ".py",
   "mimetype": "text/x-python",
   "name": "python",
   "nbconvert_exporter": "python",
   "pygments_lexer": "ipython2",
   "version": "2.7.6"
  }
 },
 "nbformat": 4,
 "nbformat_minor": 5
}
