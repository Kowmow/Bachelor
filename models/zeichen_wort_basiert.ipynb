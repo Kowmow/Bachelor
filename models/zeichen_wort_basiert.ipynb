{
 "cells": [
  {
   "cell_type": "code",
   "id": "initial_id",
   "metadata": {
    "collapsed": true,
    "ExecuteTime": {
     "end_time": "2024-09-05T09:00:39.951114Z",
     "start_time": "2024-09-05T09:00:39.931804Z"
    }
   },
   "source": [
    "import json\n",
    "import time\n",
    "import pandas as pd\n",
    "\n",
    "def jaccard_similarity(text1, text2):\n",
    "    words_text1 = set(text1.split())\n",
    "    words_text2 = set(text2.split())\n",
    "    intersection = words_text1.intersection(words_text2)\n",
    "    union = words_text1.union(words_text2)\n",
    "    return len(intersection) / len(union) if len(union) > 0 else 0\n",
    "\n",
    "with open('manuelle_bewertung.json', 'r') as file:\n",
    "    data = json.load(file)\n",
    "\n",
    "results = []\n",
    "\n",
    "for i, pair in enumerate(data, 1):\n",
    "    musterantwort = pair.get(\"Musterantwort\", \"\")\n",
    "    chatbotantwort = pair.get(\"ChatVGH\", \"\")\n",
    "    \n",
    "    if not musterantwort or not chatbotantwort:\n",
    "        continue\n",
    "    \n",
    "    start_time = time.perf_counter()\n",
    "    \n",
    "    jaccard_coefficient = jaccard_similarity(musterantwort, chatbotantwort)\n",
    "    \n",
    "    end_time = time.perf_counter()\n",
    "    \n",
    "    elapsed_time_ms = round((end_time - start_time) * 1000, 9) \n",
    "    \n",
    "    results.append({\n",
    "        \"Vergleich\": i,\n",
    "        \"Jaccard-Koeffizient\": jaccard_coefficient,\n",
    "        \"Berechnungszeit (ms)\": elapsed_time_ms\n",
    "    })\n",
    "\n",
    "df = pd.DataFrame(results)\n",
    "\n",
    "print(df.to_string(index=False))"
   ],
   "outputs": [
    {
     "name": "stdout",
     "output_type": "stream",
     "text": [
      " Vergleich  Jaccard-Koeffizient  Berechnungszeit (ms)\n",
      "         1             0.187050              0.113799\n",
      "         2             0.300000              0.047200\n",
      "         3             0.375000              0.025300\n",
      "         4             0.540541              0.025900\n",
      "         5             0.067568              0.035100\n",
      "         6             0.091837              0.051100\n",
      "         7             0.070588              0.034900\n",
      "         8             0.968750              0.029800\n",
      "         9             1.000000              0.020300\n",
      "        10             0.306122              0.023700\n",
      "        11             0.300000              0.043000\n",
      "        12             0.948718              0.029600\n",
      "        13             0.200000              0.086299\n"
     ]
    }
   ],
   "execution_count": 16
  },
  {
   "metadata": {
    "ExecuteTime": {
     "end_time": "2024-09-05T09:05:22.814709Z",
     "start_time": "2024-09-05T09:05:22.797745Z"
    }
   },
   "cell_type": "code",
   "source": [
    "import json\n",
    "import time\n",
    "import pandas as pd\n",
    "from Levenshtein import distance as levenshtein_distance\n",
    "\n",
    "# Funktion zur Berechnung der Levenshtein-Distanz\n",
    "def levenshtein_similarity(text1, text2):\n",
    "    return levenshtein_distance(text1, text2)\n",
    "\n",
    "# Lade die Datei\n",
    "with open('manuelle_bewertung.json', 'r') as file:\n",
    "    data = json.load(file)\n",
    "\n",
    "# Liste zur Speicherung der Ergebnisse\n",
    "results = []\n",
    "\n",
    "# Iteriere über alle Paare in der Datei\n",
    "for i, pair in enumerate(data, 1):\n",
    "    musterantwort = pair.get(\"Musterantwort\", \"\")\n",
    "    chatbotantwort = pair.get(\"ChatVGH\", \"\")\n",
    "    \n",
    "    if not musterantwort or not chatbotantwort:\n",
    "        continue\n",
    "    \n",
    "    # Zeitmessung starten\n",
    "    start_time = time.perf_counter()\n",
    "    \n",
    "    # Berechne die Levenshtein-Distanz\n",
    "    levenshtein_dist = levenshtein_similarity(musterantwort, chatbotantwort)\n",
    "    \n",
    "    # Zeitmessung beenden\n",
    "    end_time = time.perf_counter()\n",
    "    \n",
    "    # Berechnungszeit in Millisekunden\n",
    "    elapsed_time_ms = round((end_time - start_time) * 1000, 9)\n",
    "    \n",
    "    # Füge das Ergebnis zur Liste hinzu\n",
    "    results.append({\n",
    "        \"Vergleich\": i,\n",
    "        \"Levenshtein-Distanz\": levenshtein_dist,\n",
    "        \"Berechnungszeit (ms)\": elapsed_time_ms\n",
    "    })\n",
    "\n",
    "# Erstelle einen DataFrame aus den Ergebnissen\n",
    "df = pd.DataFrame(results)\n",
    "\n",
    "# Ausgabe des DataFrames ohne Index\n",
    "print(df.to_string(index=False))"
   ],
   "id": "384e129174fd4926",
   "outputs": [
    {
     "name": "stdout",
     "output_type": "stream",
     "text": [
      " Vergleich  Levenshtein-Distanz  Berechnungszeit (ms)\n",
      "         1                  666              0.123600\n",
      "         2                  315              0.045200\n",
      "         3                  169              0.021400\n",
      "         4                  151              0.017500\n",
      "         5                  764              0.029400\n",
      "         6                  713              0.066800\n",
      "         7                  499              0.036600\n",
      "         8                   12              0.011500\n",
      "         9                    0              0.001400\n",
      "        10                  197              0.019000\n",
      "        11                  314              0.958700\n",
      "        12                    1              0.002700\n",
      "        13                  837              0.237701\n"
     ]
    }
   ],
   "execution_count": 18
  },
  {
   "cell_type": "code",
   "outputs": [],
   "source": [
    "\n"
   ],
   "metadata": {
    "collapsed": false
   },
   "id": "e9cb105fa649f86b",
   "execution_count": null
  }
 ],
 "metadata": {
  "kernelspec": {
   "display_name": "Python 3",
   "language": "python",
   "name": "python3"
  },
  "language_info": {
   "codemirror_mode": {
    "name": "ipython",
    "version": 2
   },
   "file_extension": ".py",
   "mimetype": "text/x-python",
   "name": "python",
   "nbconvert_exporter": "python",
   "pygments_lexer": "ipython2",
   "version": "2.7.6"
  }
 },
 "nbformat": 4,
 "nbformat_minor": 5
}
