{
 "cells": [
  {
   "cell_type": "code",
   "id": "initial_id",
   "metadata": {
    "collapsed": true,
    "ExecuteTime": {
     "end_time": "2024-09-04T17:47:58.263559Z",
     "start_time": "2024-09-04T17:47:58.258099Z"
    }
   },
   "source": [
    "import json\n",
    "import time\n",
    "\n",
    "# Funktion zum Berechnen des Jaccard-Koeffizienten\n",
    "def jaccard_similarity(text1, text2):\n",
    "    # Tokenisierung der Texte in Sets von Wörtern\n",
    "    words_text1 = set(text1.split())\n",
    "    words_text2 = set(text2.split())\n",
    "    \n",
    "    # Berechnung des Jaccard-Koeffizienten\n",
    "    intersection = words_text1.intersection(words_text2)\n",
    "    union = words_text1.union(words_text2)\n",
    "    return len(intersection) / len(union)\n",
    "\n",
    "# Lade die Datei\n",
    "with open('manuelle_bewertung.json', 'r') as file:\n",
    "    data = json.load(file)\n",
    "\n",
    "# Extrahiere das erste Paar: Musterantwort und Chatbotantwort\n",
    "musterantwort = data[1][\"Musterantwort\"]\n",
    "chatbotantwort = data[1][\"ChatVGH\"]\n",
    "\n",
    "# Zeitmessung starten\n",
    "start_time = time.time()\n",
    "\n",
    "# Berechne den Jaccard-Koeffizienten für das erste Paar\n",
    "jaccard_coefficient = jaccard_similarity(musterantwort, chatbotantwort)\n",
    "\n",
    "# Zeitmessung beenden\n",
    "end_time = time.time()\n",
    "\n",
    "# Berechnungszeit\n",
    "elapsed_time = end_time - start_time\n",
    "\n",
    "# Ausgabe des Ergebnisses\n",
    "print(f\"Jaccard-Koeffizient: {jaccard_coefficient}\")\n",
    "print(f\"Berechnungszeit: {elapsed_time:.6f} Sekunden\")\n"
   ],
   "outputs": [
    {
     "name": "stdout",
     "output_type": "stream",
     "text": [
      "Jaccard-Koeffizient: 0.3\n",
      "Berechnungszeit: 0.000000 Sekunden\n"
     ]
    }
   ],
   "execution_count": 1
  },
  {
   "metadata": {
    "ExecuteTime": {
     "end_time": "2024-09-04T17:48:59.149545Z",
     "start_time": "2024-09-04T17:48:59.139984Z"
    }
   },
   "cell_type": "code",
   "source": [
    "import json\n",
    "import time\n",
    "from Levenshtein import distance as levenshtein_distance\n",
    "\n",
    "# Funktion zur Berechnung der Levenshtein-Distanz\n",
    "def levenshtein_similarity(text1, text2):\n",
    "    # Berechnung der Levenshtein-Distanz\n",
    "    return levenshtein_distance(text1, text2)\n",
    "\n",
    "# Lade die Datei\n",
    "with open('manuelle_bewertung.json', 'r') as file:  # Ändere 'deine_datei.json' auf den Pfad deiner Datei\n",
    "    data = json.load(file)\n",
    "\n",
    "# Extrahiere das erste Paar: Musterantwort und Chatbotantwort\n",
    "musterantwort = data[1][\"Musterantwort\"]  # Ändere den Index auf das gewünschte Paar\n",
    "chatbotantwort = data[1][\"ChatVGH\"]\n",
    "\n",
    "# Zeitmessung starten\n",
    "start_time = time.time()\n",
    "\n",
    "# Berechne die Levenshtein-Distanz für das erste Paar\n",
    "levenshtein_dist = levenshtein_similarity(musterantwort, chatbotantwort)\n",
    "\n",
    "# Zeitmessung beenden\n",
    "end_time = time.time()\n",
    "\n",
    "# Berechnungszeit\n",
    "elapsed_time = end_time - start_time\n",
    "\n",
    "# Ausgabe des Ergebnisses\n",
    "print(f\"Levenshtein-Distanz: {levenshtein_dist}\")\n",
    "print(f\"Berechnungszeit: {elapsed_time:.6f} Sekunden\")"
   ],
   "id": "384e129174fd4926",
   "outputs": [
    {
     "name": "stdout",
     "output_type": "stream",
     "text": [
      "Levenshtein-Distanz: 315\n",
      "Berechnungszeit: 0.000000 Sekunden\n"
     ]
    }
   ],
   "execution_count": 3
  },
  {
   "metadata": {},
   "cell_type": "code",
   "outputs": [],
   "execution_count": null,
   "source": "",
   "id": "a6df37ebb210eb84"
  }
 ],
 "metadata": {
  "kernelspec": {
   "display_name": "Python 3",
   "language": "python",
   "name": "python3"
  },
  "language_info": {
   "codemirror_mode": {
    "name": "ipython",
    "version": 2
   },
   "file_extension": ".py",
   "mimetype": "text/x-python",
   "name": "python",
   "nbconvert_exporter": "python",
   "pygments_lexer": "ipython2",
   "version": "2.7.6"
  }
 },
 "nbformat": 4,
 "nbformat_minor": 5
}
