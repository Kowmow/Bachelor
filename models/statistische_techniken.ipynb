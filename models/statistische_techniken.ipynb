{
 "cells": [
  {
   "cell_type": "code",
   "id": "initial_id",
   "metadata": {
    "collapsed": true,
    "ExecuteTime": {
     "end_time": "2024-09-04T18:03:04.950124Z",
     "start_time": "2024-09-04T18:03:03.839085Z"
    }
   },
   "source": [
    "import json\n",
    "import time\n",
    "import gensim\n",
    "from gensim import corpora\n",
    "from gensim.similarities import MatrixSimilarity\n",
    "from gensim.models import LsiModel\n",
    "# pip install scikit-learn gensim\n",
    "# Lade die Datei\n",
    "with open('manuelle_bewertung.json', 'r') as file:  # Verwende die Datei 'manuelle_bewertung.json'\n",
    "    data = json.load(file)\n",
    "\n",
    "# Extrahiere das erste Paar: Musterantwort und Chatbotantwort\n",
    "musterantwort = data[1][\"Musterantwort\"]  # Ändere den Index auf das gewünschte Paar\n",
    "chatbotantwort = data[1][\"ChatVGH\"]\n",
    "\n",
    "# Tokenisiere die Texte\n",
    "texts = [musterantwort.lower().split(), chatbotantwort.lower().split()]\n",
    "\n",
    "# Erstelle ein Wörterbuch (Dictionary)\n",
    "dictionary = corpora.Dictionary(texts)\n",
    "\n",
    "# Konvertiere die Texte in eine Bag-of-Words-Darstellung\n",
    "corpus = [dictionary.doc2bow(text) for text in texts]\n",
    "\n",
    "# Zeitmessung starten\n",
    "start_time = time.time()\n",
    "\n",
    "# Führe LSI durch (mit z.B. 2 Themen)\n",
    "lsi = LsiModel(corpus, id2word=dictionary, num_topics=2)\n",
    "\n",
    "# Erstelle einen Index für die Ähnlichkeit\n",
    "index = MatrixSimilarity(lsi[corpus])\n",
    "\n",
    "# Berechne die Ähnlichkeit der beiden Texte\n",
    "vec_lsi_muster = lsi[corpus[0]]  # Vektor der Musterantwort\n",
    "vec_lsi_tatsaechlich = lsi[corpus[1]]  # Vektor der tatsächlichen Antwort\n",
    "\n",
    "# Ähnlichkeit zwischen den beiden Texten berechnen\n",
    "ähnlichkeit = index[vec_lsi_tatsaechlich][0]  # Vergleich mit der Musterantwort\n",
    "\n",
    "# Zeitmessung beenden\n",
    "end_time = time.time()\n",
    "\n",
    "# Berechnungszeit\n",
    "elapsed_time = end_time - start_time\n",
    "\n",
    "# Ausgabe des Ergebnisses\n",
    "print(f\"Ähnlichkeit zwischen Musterantwort und tatsächlicher Antwort: {ähnlichkeit:.2f}\")\n",
    "print(f\"Berechnungszeit: {elapsed_time:.6f} Sekunden\")"
   ],
   "outputs": [
    {
     "name": "stdout",
     "output_type": "stream",
     "text": [
      "Ähnlichkeit zwischen Musterantwort und tatsächlicher Antwort: 0.52\n",
      "Berechnungszeit: 0.003576 Sekunden\n"
     ]
    }
   ],
   "execution_count": 2
  },
  {
   "metadata": {
    "ExecuteTime": {
     "end_time": "2024-09-04T18:04:51.291119Z",
     "start_time": "2024-09-04T18:04:50.778655Z"
    }
   },
   "cell_type": "code",
   "source": [
    "import json\n",
    "import time\n",
    "from sklearn.feature_extraction.text import TfidfVectorizer\n",
    "from sklearn.decomposition import TruncatedSVD\n",
    "from sklearn.metrics.pairwise import cosine_similarity\n",
    "\n",
    "# Lade die Datei\n",
    "with open('manuelle_bewertung.json', 'r') as file:  # Verwende die Datei 'manuelle_bewertung.json'\n",
    "    data = json.load(file)\n",
    "\n",
    "# Extrahiere das erste Paar: Musterantwort und Chatbotantwort\n",
    "musterantwort = data[1][\"Musterantwort\"]\n",
    "chatbotantwort = data[1][\"ChatVGH\"]\n",
    "\n",
    "# Liste der Texte (Musterantwort und tatsächliche Antwort)\n",
    "documents = [musterantwort, chatbotantwort]\n",
    "\n",
    "# Zeitmessung starten\n",
    "start_time = time.time()\n",
    "\n",
    "# Vektorisierung der Texte in eine TF-IDF-Matrix\n",
    "vectorizer = TfidfVectorizer()\n",
    "X = vectorizer.fit_transform(documents)\n",
    "\n",
    "# Anwenden von LSA mit SVD\n",
    "lsa = TruncatedSVD(n_components=2)  # Reduziert auf 2 Dimensionen\n",
    "X_lsa = lsa.fit_transform(X)\n",
    "\n",
    "# Berechne die Kosinus-Ähnlichkeit zwischen den beiden Texten\n",
    "ähnlichkeit = cosine_similarity([X_lsa[0]], [X_lsa[1]])[0][0]\n",
    "\n",
    "# Zeitmessung beenden\n",
    "end_time = time.time()\n",
    "\n",
    "# Berechnungszeit\n",
    "elapsed_time = end_time - start_time\n",
    "\n",
    "# Ausgabe des Ergebnisses\n",
    "print(f\"Ähnlichkeit zwischen Musterantwort und tatsächlicher Antwort: {ähnlichkeit:.2f}\")\n",
    "print(f\"Berechnungszeit: {elapsed_time:.6f} Sekunden\")"
   ],
   "id": "f5856c2ef7c557c9",
   "outputs": [
    {
     "name": "stdout",
     "output_type": "stream",
     "text": [
      "Ähnlichkeit zwischen Musterantwort und tatsächlicher Antwort: 0.53\n",
      "Berechnungszeit: 0.003213 Sekunden\n"
     ]
    }
   ],
   "execution_count": 3
  },
  {
   "metadata": {},
   "cell_type": "code",
   "outputs": [],
   "execution_count": null,
   "source": "",
   "id": "c592737e3ceb0c68"
  }
 ],
 "metadata": {
  "kernelspec": {
   "display_name": "Python 3",
   "language": "python",
   "name": "python3"
  },
  "language_info": {
   "codemirror_mode": {
    "name": "ipython",
    "version": 2
   },
   "file_extension": ".py",
   "mimetype": "text/x-python",
   "name": "python",
   "nbconvert_exporter": "python",
   "pygments_lexer": "ipython2",
   "version": "2.7.6"
  }
 },
 "nbformat": 4,
 "nbformat_minor": 5
}
