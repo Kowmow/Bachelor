{
 "cells": [
  {
   "cell_type": "code",
   "id": "initial_id",
   "metadata": {
    "collapsed": true,
    "ExecuteTime": {
     "end_time": "2024-09-05T15:00:50.739300Z",
     "start_time": "2024-09-05T15:00:50.712667Z"
    }
   },
   "source": [
    "import json\n",
    "import time\n",
    "import pandas as pd\n",
    "from sklearn.feature_extraction.text import CountVectorizer\n",
    "from sklearn.metrics.pairwise import cosine_similarity\n",
    "#pip install scikit-learn\n",
    "def bag_of_words_similarity(text1, text2):\n",
    "    vectorizer = CountVectorizer()\n",
    "    vectors = vectorizer.fit_transform([text1, text2]).toarray()\n",
    "    return cosine_similarity(vectors)[0, 1]\n",
    "\n",
    "with open('manuelle_bewertung.json', 'r') as file:\n",
    "    data = json.load(file)\n",
    "\n",
    "results = []\n",
    "\n",
    "for i, pair in enumerate(data, 1):\n",
    "    musterantwort = pair.get(\"Musterantwort\", \"\")\n",
    "    chatbotantwort = pair.get(\"ChatVGH\", \"\")\n",
    "    \n",
    "    if not musterantwort or not chatbotantwort:\n",
    "        continue\n",
    "    \n",
    "    start_time = time.perf_counter()\n",
    "    \n",
    "    similarity = bag_of_words_similarity(musterantwort, chatbotantwort)\n",
    "    \n",
    "    end_time = time.perf_counter()\n",
    "    \n",
    "    elapsed_time_ms = round((end_time - start_time) * 1000, 9)\n",
    "    \n",
    "    results.append({\n",
    "        \"Vergleich\": i,\n",
    "        \"Bag-of-Words Ähnlichkeit (Cosine)\": similarity,\n",
    "        \"Berechnungszeit (ms)\": elapsed_time_ms\n",
    "    })\n",
    "\n",
    "df = pd.DataFrame(results)\n",
    "\n",
    "print(df.to_string(index=False))"
   ],
   "outputs": [
    {
     "name": "stdout",
     "output_type": "stream",
     "text": [
      " Vergleich  Bag-of-Words Ähnlichkeit (Cosine)  Berechnungszeit (ms)\n",
      "         1                           0.515779              2.381399\n",
      "         2                           0.648204              1.205300\n",
      "         3                           0.587887              0.900000\n",
      "         4                           0.718751              0.841101\n",
      "         5                           0.279946              0.928500\n",
      "         6                           0.267856              0.814800\n",
      "         7                           0.249101              0.909301\n",
      "         8                           0.968246              0.802000\n",
      "         9                           1.000000              0.639700\n",
      "        10                           0.525723              1.002501\n",
      "        11                           0.647280              1.522399\n",
      "        12                           0.985714              1.771200\n",
      "        13                           0.614218              1.405200\n"
     ]
    }
   ],
   "execution_count": 9
  },
  {
   "metadata": {
    "ExecuteTime": {
     "end_time": "2024-09-05T15:00:50.771308Z",
     "start_time": "2024-09-05T15:00:50.741466Z"
    }
   },
   "cell_type": "code",
   "source": [
    "import json\n",
    "import time\n",
    "import pandas as pd\n",
    "from sklearn.feature_extraction.text import TfidfVectorizer\n",
    "from sklearn.metrics.pairwise import cosine_similarity\n",
    "\n",
    "def tfidf_similarity(text1, text2):\n",
    "    vectorizer = TfidfVectorizer()\n",
    "    vectors = vectorizer.fit_transform([text1, text2]).toarray()\n",
    "    return cosine_similarity(vectors)[0, 1]\n",
    "\n",
    "with open('manuelle_bewertung.json', 'r') as file:\n",
    "    data = json.load(file)\n",
    "\n",
    "results = []\n",
    "\n",
    "for i, pair in enumerate(data, 1):\n",
    "    musterantwort = pair.get(\"Musterantwort\", \"\")\n",
    "    chatbotantwort = pair.get(\"ChatVGH\", \"\")\n",
    "    \n",
    "    if not musterantwort or not chatbotantwort:\n",
    "        continue\n",
    "    \n",
    "    start_time = time.perf_counter()\n",
    "    \n",
    "    similarity = tfidf_similarity(musterantwort, chatbotantwort)\n",
    "    \n",
    "    end_time = time.perf_counter()\n",
    "    \n",
    "    elapsed_time_ms = round((end_time - start_time) * 1000, 9)\n",
    "    \n",
    "    results.append({\n",
    "        \"Vergleich\": i,\n",
    "        \"TF-IDF Ähnlichkeit (Cosine)\": similarity,\n",
    "        \"Berechnungszeit (ms)\": elapsed_time_ms\n",
    "    })\n",
    "\n",
    "df = pd.DataFrame(results)\n",
    "\n",
    "print(df.to_string(index=False))"
   ],
   "id": "f5856c2ef7c557c9",
   "outputs": [
    {
     "name": "stdout",
     "output_type": "stream",
     "text": [
      " Vergleich  TF-IDF Ähnlichkeit (Cosine)  Berechnungszeit (ms)\n",
      "         1                     0.385624              2.840701\n",
      "         2                     0.525183              1.391500\n",
      "         3                     0.437208              1.061100\n",
      "         4                     0.585594              1.180800\n",
      "         5                     0.174105              1.446900\n",
      "         6                     0.165596              2.365600\n",
      "         7                     0.156498              1.735000\n",
      "         8                     0.940019              0.880300\n",
      "         9                     1.000000              0.711800\n",
      "        10                     0.375170              0.777099\n",
      "        11                     0.523252              1.115400\n",
      "        12                     0.972169              0.843900\n",
      "        13                     0.500893              1.130700\n"
     ]
    }
   ],
   "execution_count": 10
  },
  {
   "metadata": {
    "ExecuteTime": {
     "end_time": "2024-09-05T16:04:52.056832Z",
     "start_time": "2024-09-05T16:04:52.011602Z"
    }
   },
   "cell_type": "code",
   "outputs": [
    {
     "name": "stdout",
     "output_type": "stream",
     "text": [
      " Vergleich  LSI Ähnlichkeit (Cosine)  Berechnungszeit (ms)\n",
      "         1                  0.385624              5.082800\n",
      "         2                  0.525183              3.180800\n",
      "         3                  0.437208              2.301300\n",
      "         4                  0.585594              2.414499\n",
      "         5                  0.174105              2.132800\n",
      "         6                  0.165596              2.477800\n",
      "         7                  0.156498              1.913000\n",
      "         8                  0.940019              1.702600\n",
      "         9                  1.000000              1.976199\n",
      "        10                  0.375170              2.243700\n",
      "        11                  0.523252              2.776100\n",
      "        12                  0.972169              2.148801\n",
      "        13                  0.500893              4.022000\n"
     ]
    },
    {
     "name": "stderr",
     "output_type": "stream",
     "text": [
      "C:\\Users\\admin\\PycharmProjects\\Thesis\\Bachelor\\.venv\\Lib\\site-packages\\sklearn\\decomposition\\_truncated_svd.py:275: RuntimeWarning: invalid value encountered in divide\n",
      "  self.explained_variance_ratio_ = exp_var / full_var\n"
     ]
    }
   ],
   "execution_count": 12,
   "source": [
    "import json\n",
    "import time\n",
    "import pandas as pd\n",
    "from sklearn.feature_extraction.text import TfidfVectorizer\n",
    "from sklearn.decomposition import TruncatedSVD\n",
    "from sklearn.metrics.pairwise import cosine_similarity\n",
    "\n",
    "def lsi_similarity(text1, text2):\n",
    "    vectorizer = TfidfVectorizer()\n",
    "    tfidf_matrix = vectorizer.fit_transform([text1, text2])\n",
    "    \n",
    "    n_features = tfidf_matrix.shape[1]\n",
    "    \n",
    "    # LSI mit SVD (Singular Value Decomposition)\n",
    "    # n_components sollte <= n_features sein\n",
    "    n_components = min(100, n_features)\n",
    "    svd = TruncatedSVD(n_components=n_components)\n",
    "    lsi_matrix = svd.fit_transform(tfidf_matrix)\n",
    "    \n",
    "    return cosine_similarity(lsi_matrix)[0, 1]\n",
    "\n",
    "with open('manuelle_bewertung.json', 'r') as file:\n",
    "    data = json.load(file)\n",
    "\n",
    "results = []\n",
    "\n",
    "for i, pair in enumerate(data, 1):\n",
    "    musterantwort = pair.get(\"Musterantwort\", \"\")\n",
    "    chatbotantwort = pair.get(\"ChatVGH\", \"\")\n",
    "    \n",
    "    if not musterantwort or not chatbotantwort:\n",
    "        continue\n",
    "    \n",
    "    start_time = time.perf_counter()\n",
    "    \n",
    "    similarity = lsi_similarity(musterantwort, chatbotantwort)\n",
    "    \n",
    "    end_time = time.perf_counter()\n",
    "    \n",
    "    elapsed_time_ms = round((end_time - start_time) * 1000, 9)\n",
    "    \n",
    "    results.append({\n",
    "        \"Vergleich\": i,\n",
    "        \"LSI Ähnlichkeit (Cosine)\": similarity,\n",
    "        \"Berechnungszeit (ms)\": elapsed_time_ms\n",
    "    })\n",
    "\n",
    "df = pd.DataFrame(results)\n",
    "\n",
    "print(df.to_string(index=False))"
   ],
   "id": "c592737e3ceb0c68"
  },
  {
   "cell_type": "code",
   "outputs": [],
   "source": [],
   "metadata": {
    "collapsed": false,
    "ExecuteTime": {
     "end_time": "2024-09-05T15:00:50.828993Z",
     "start_time": "2024-09-05T15:00:50.825352Z"
    }
   },
   "id": "c26d7db9ec8d7bcf",
   "execution_count": 11
  }
 ],
 "metadata": {
  "kernelspec": {
   "display_name": "Python 3",
   "language": "python",
   "name": "python3"
  },
  "language_info": {
   "codemirror_mode": {
    "name": "ipython",
    "version": 2
   },
   "file_extension": ".py",
   "mimetype": "text/x-python",
   "name": "python",
   "nbconvert_exporter": "python",
   "pygments_lexer": "ipython2",
   "version": "2.7.6"
  }
 },
 "nbformat": 4,
 "nbformat_minor": 5
}
