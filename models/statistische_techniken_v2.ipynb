{
 "cells": [
  {
   "cell_type": "code",
   "id": "initial_id",
   "metadata": {
    "collapsed": true,
    "ExecuteTime": {
     "end_time": "2024-09-09T12:09:55.641392Z",
     "start_time": "2024-09-09T12:09:53.014150Z"
    }
   },
   "source": [
    "import time\n",
    "import pandas as pd\n",
    "from sklearn.feature_extraction.text import CountVectorizer\n",
    "from sklearn.metrics.pairwise import cosine_similarity\n",
    "\n",
    "# Define the Bag-of-Words similarity function\n",
    "def bag_of_words_similarity(text1, text2):\n",
    "    vectorizer = CountVectorizer()\n",
    "    vectors = vectorizer.fit_transform([text1, text2]).toarray()\n",
    "    return cosine_similarity(vectors)[0, 1]\n",
    "\n",
    "# Load the CSV file with test sentences\n",
    "df = pd.read_csv('testsätze.csv')\n",
    "\n",
    "# Prepare results\n",
    "results = []\n",
    "\n",
    "# Iterate over each row to compare the sentences\n",
    "for index, row in df.iterrows():\n",
    "    # Extract the sentences from each column\n",
    "    satz1 = row.get('Satz 1', \"\")\n",
    "    satz2 = row.get('Satz 2', \"\")\n",
    "    satz3 = row.get('Satz 3', \"\")\n",
    "\n",
    "    # List of comparisons: Satz 1 with Satz 2, Satz 1 with Satz 3, Satz 2 with Satz 3\n",
    "    comparisons = [(\"Satz 1 mit Satz 2\", satz1, satz2), \n",
    "                   (\"Satz 1 mit Satz 3\", satz1, satz3),\n",
    "                   (\"Satz 2 mit Satz 3\", satz2, satz3)]\n",
    "    \n",
    "    # Compare each sentence pair and calculate the similarity\n",
    "    for comparison_label, text1, text2 in comparisons:\n",
    "        if not text1 or not text2:\n",
    "            continue\n",
    "        \n",
    "        start_time = time.perf_counter()\n",
    "        similarity = bag_of_words_similarity(text1, text2)\n",
    "        end_time = time.perf_counter()\n",
    "        \n",
    "        elapsed_time_ms = round((end_time - start_time) * 1000, 9)\n",
    "        \n",
    "        results.append({\n",
    "            \"Vergleich\": comparison_label,\n",
    "            \"Cosine Similarity (Bag-of-Words)\": similarity,\n",
    "            \"Berechnungszeit (ms)\": elapsed_time_ms\n",
    "        })\n",
    "\n",
    "# Create a DataFrame from the results\n",
    "results_df = pd.DataFrame(results)\n",
    "\n",
    "# Print the results in a formatted DataFrame\n",
    "print(results_df.to_string(index=False))"
   ],
   "outputs": [
    {
     "name": "stdout",
     "output_type": "stream",
     "text": [
      "        Vergleich  Cosine Similarity (Bag-of-Words)  Berechnungszeit (ms)\n",
      "Satz 1 mit Satz 2                          0.830455                0.7863\n",
      "Satz 1 mit Satz 3                          0.615587                0.3690\n",
      "Satz 2 mit Satz 3                          0.511217                0.3161\n"
     ]
    }
   ],
   "execution_count": 1
  },
  {
   "metadata": {
    "ExecuteTime": {
     "end_time": "2024-09-09T12:09:55.649517Z",
     "start_time": "2024-09-09T12:09:55.642394Z"
    }
   },
   "cell_type": "code",
   "source": [
    "import time\n",
    "import pandas as pd\n",
    "from sklearn.feature_extraction.text import TfidfVectorizer\n",
    "from sklearn.metrics.pairwise import cosine_similarity\n",
    "\n",
    "# Define the TF-IDF similarity function\n",
    "def tfidf_similarity(text1, text2):\n",
    "    vectorizer = TfidfVectorizer()\n",
    "    vectors = vectorizer.fit_transform([text1, text2]).toarray()\n",
    "    return cosine_similarity(vectors)[0, 1]\n",
    "\n",
    "# Load the CSV file with test sentences\n",
    "df = pd.read_csv('testsätze.csv')\n",
    "\n",
    "# Prepare results\n",
    "results = []\n",
    "\n",
    "# Iterate over each row to compare the sentences\n",
    "for index, row in df.iterrows():\n",
    "    # Extract the sentences from each column\n",
    "    satz1 = row.get('Satz 1', \"\")\n",
    "    satz2 = row.get('Satz 2', \"\")\n",
    "    satz3 = row.get('Satz 3', \"\")\n",
    "\n",
    "    # List of comparisons: Satz 1 with Satz 2, Satz 1 with Satz 3, Satz 2 with Satz 3\n",
    "    comparisons = [(\"Satz 1 mit Satz 2\", satz1, satz2), \n",
    "                   (\"Satz 1 mit Satz 3\", satz1, satz3),\n",
    "                   (\"Satz 2 mit Satz 3\", satz2, satz3)]\n",
    "    \n",
    "    # Compare each sentence pair and calculate the TF-IDF cosine similarity\n",
    "    for comparison_label, text1, text2 in comparisons:\n",
    "        if not text1 or not text2:\n",
    "            continue\n",
    "        \n",
    "        start_time = time.perf_counter()\n",
    "        similarity = tfidf_similarity(text1, text2)\n",
    "        end_time = time.perf_counter()\n",
    "        \n",
    "        elapsed_time_ms = round((end_time - start_time) * 1000, 9)\n",
    "        \n",
    "        results.append({\n",
    "            \"Vergleich\": comparison_label,\n",
    "            \"TF-IDF Ähnlichkeit (Cosine)\": similarity,\n",
    "            \"Berechnungszeit (ms)\": elapsed_time_ms\n",
    "        })\n",
    "\n",
    "# Create a DataFrame from the results\n",
    "results_df = pd.DataFrame(results)\n",
    "\n",
    "# Print the results in a formatted DataFrame\n",
    "print(results_df.to_string(index=False))"
   ],
   "id": "f5856c2ef7c557c9",
   "outputs": [
    {
     "name": "stdout",
     "output_type": "stream",
     "text": [
      "        Vergleich  TF-IDF Ähnlichkeit (Cosine)  Berechnungszeit (ms)\n",
      "Satz 1 mit Satz 2                     0.727605                0.6853\n",
      "Satz 1 mit Satz 3                     0.455875                0.5627\n",
      "Satz 2 mit Satz 3                     0.350913                0.5949\n"
     ]
    }
   ],
   "execution_count": 2
  },
  {
   "metadata": {
    "ExecuteTime": {
     "end_time": "2024-09-09T12:09:55.818597Z",
     "start_time": "2024-09-09T12:09:55.649517Z"
    }
   },
   "cell_type": "code",
   "source": [
    "import time\n",
    "import pandas as pd\n",
    "from sklearn.feature_extraction.text import TfidfVectorizer\n",
    "from sklearn.decomposition import TruncatedSVD\n",
    "from sklearn.metrics.pairwise import cosine_similarity\n",
    "\n",
    "# Define the LSI similarity function using TF-IDF and Truncated SVD\n",
    "def lsi_similarity(text1, text2):\n",
    "    vectorizer = TfidfVectorizer()\n",
    "    tfidf_matrix = vectorizer.fit_transform([text1, text2])\n",
    "    \n",
    "    n_features = tfidf_matrix.shape[1]\n",
    "    \n",
    "    # Apply LSI with Truncated SVD (Singular Value Decomposition)\n",
    "    n_components = min(100, n_features)\n",
    "    svd = TruncatedSVD(n_components=n_components)\n",
    "    lsi_matrix = svd.fit_transform(tfidf_matrix)\n",
    "    \n",
    "    return cosine_similarity(lsi_matrix)[0, 1]\n",
    "\n",
    "# Load the CSV file with test sentences\n",
    "df = pd.read_csv('testsätze.csv')\n",
    "\n",
    "# Prepare results\n",
    "results = []\n",
    "\n",
    "# Iterate over each row to compare the sentences\n",
    "for index, row in df.iterrows():\n",
    "    # Extract the sentences from each column\n",
    "    satz1 = row.get('Satz 1', \"\")\n",
    "    satz2 = row.get('Satz 2', \"\")\n",
    "    satz3 = row.get('Satz 3', \"\")\n",
    "\n",
    "    # List of comparisons: Satz 1 with Satz 2, Satz 1 with Satz 3, Satz 2 with Satz 3\n",
    "    comparisons = [(\"Satz 1 mit Satz 2\", satz1, satz2), \n",
    "                   (\"Satz 1 mit Satz 3\", satz1, satz3),\n",
    "                   (\"Satz 2 mit Satz 3\", satz2, satz3)]\n",
    "    \n",
    "    # Compare each sentence pair and calculate the LSI cosine similarity\n",
    "    for comparison_label, text1, text2 in comparisons:\n",
    "        if not text1 or not text2:\n",
    "            continue\n",
    "        \n",
    "        start_time = time.perf_counter()\n",
    "        similarity = lsi_similarity(text1, text2)\n",
    "        end_time = time.perf_counter()\n",
    "        \n",
    "        elapsed_time_ms = round((end_time - start_time) * 1000, 9)\n",
    "        \n",
    "        results.append({\n",
    "            \"Vergleich\": comparison_label,\n",
    "            \"LSI Ähnlichkeit (Cosine)\": similarity,\n",
    "            \"Berechnungszeit (ms)\": elapsed_time_ms\n",
    "        })\n",
    "\n",
    "# Create a DataFrame from the results\n",
    "results_df = pd.DataFrame(results)\n",
    "\n",
    "# Print the results in a formatted DataFrame\n",
    "print(results_df.to_string(index=False))"
   ],
   "id": "c592737e3ceb0c68",
   "outputs": [
    {
     "name": "stdout",
     "output_type": "stream",
     "text": [
      "        Vergleich  LSI Ähnlichkeit (Cosine)  Berechnungszeit (ms)\n",
      "Satz 1 mit Satz 2                  0.727605                4.4295\n",
      "Satz 1 mit Satz 3                  0.455875                1.0303\n",
      "Satz 2 mit Satz 3                  0.350913                1.0118\n"
     ]
    }
   ],
   "execution_count": 3
  },
  {
   "cell_type": "code",
   "source": [],
   "metadata": {
    "collapsed": false,
    "ExecuteTime": {
     "end_time": "2024-09-09T12:09:55.821106Z",
     "start_time": "2024-09-09T12:09:55.818597Z"
    }
   },
   "id": "c26d7db9ec8d7bcf",
   "outputs": [],
   "execution_count": 3
  }
 ],
 "metadata": {
  "kernelspec": {
   "display_name": "Python 3",
   "language": "python",
   "name": "python3"
  },
  "language_info": {
   "codemirror_mode": {
    "name": "ipython",
    "version": 2
   },
   "file_extension": ".py",
   "mimetype": "text/x-python",
   "name": "python",
   "nbconvert_exporter": "python",
   "pygments_lexer": "ipython2",
   "version": "2.7.6"
  }
 },
 "nbformat": 4,
 "nbformat_minor": 5
}
