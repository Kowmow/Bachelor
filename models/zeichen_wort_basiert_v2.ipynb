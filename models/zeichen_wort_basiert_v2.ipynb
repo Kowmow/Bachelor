{
 "cells": [
  {
   "metadata": {
    "ExecuteTime": {
     "end_time": "2024-09-08T22:18:14.190736Z",
     "start_time": "2024-09-08T22:18:14.172584Z"
    }
   },
   "cell_type": "code",
   "outputs": [
    {
     "name": "stdout",
     "output_type": "stream",
     "text": [
      "        Vergleich  Jaccard-Koeffizient  Berechnungszeit (ms)\n",
      "Satz 1 mit Satz 2             0.933333              0.029700\n",
      "Satz 1 mit Satz 3             0.304348              0.015400\n",
      "Satz 2 mit Satz 3             0.291667              0.010801\n"
     ]
    }
   ],
   "execution_count": 12,
   "source": [
    "import time\n",
    "import pandas as pd\n",
    "\n",
    "def jaccard_similarity(text1, text2):\n",
    "    words_text1 = set(text1.split())\n",
    "    words_text2 = set(text2.split())\n",
    "    intersection = words_text1.intersection(words_text2)\n",
    "    union = words_text1.union(words_text2)\n",
    "    return len(intersection) / len(union) if len(union) > 0 else 0\n",
    "\n",
    "# Load the CSV file with test sentences\n",
    "df = pd.read_csv('testsätze.csv')\n",
    "\n",
    "# Prepare results\n",
    "results = []\n",
    "\n",
    "# Iterate over each row to compare the sentences\n",
    "for index, row in df.iterrows():\n",
    "    # Compare Satz 1 with Satz 2\n",
    "    satz1 = row.get('Satz 1', \"\")\n",
    "    satz2 = row.get('Satz 2', \"\")\n",
    "    satz3 = row.get('Satz 3', \"\")\n",
    "\n",
    "    comparisons = [(\"Satz 1 mit Satz 2\", satz1, satz2), \n",
    "                   (\"Satz 1 mit Satz 3\", satz1, satz3),\n",
    "                   (\"Satz 2 mit Satz 3\", satz2, satz3)]\n",
    "    \n",
    "    for comparison_label, text1, text2 in comparisons:\n",
    "        if not text1 or not text2:\n",
    "            continue\n",
    "        \n",
    "        start_time = time.perf_counter()\n",
    "        jaccard_coefficient = jaccard_similarity(text1, text2)\n",
    "        end_time = time.perf_counter()\n",
    "        \n",
    "        elapsed_time_ms = round((end_time - start_time) * 1000, 9)\n",
    "        \n",
    "        results.append({\n",
    "            \"Vergleich\": comparison_label,\n",
    "            \"Jaccard-Koeffizient\": jaccard_coefficient,\n",
    "            \"Berechnungszeit (ms)\": elapsed_time_ms\n",
    "        })\n",
    "\n",
    "# Create a DataFrame from results\n",
    "results_df = pd.DataFrame(results)\n",
    "\n",
    "# Erstelle einen DataFrame aus den Ergebnissen\n",
    "df = pd.DataFrame(results)\n",
    "\n",
    "print(df.to_string(index=False))"
   ],
   "id": "a6df37ebb210eb84"
  },
  {
   "cell_type": "code",
   "outputs": [
    {
     "name": "stdout",
     "output_type": "stream",
     "text": [
      "        Vergleich  Levenshtein_Distanz  Berechnungszeit (ms)\n",
      "Satz 1 mit Satz 2                   18              0.013000\n",
      "Satz 1 mit Satz 3                   43              0.002299\n",
      "Satz 2 mit Satz 3                   48              0.005800\n"
     ]
    }
   ],
   "source": [
    "import time\n",
    "import pandas as pd\n",
    "from Levenshtein import distance as levenshtein_distance\n",
    "\n",
    "def levenshtein_similarity(text1, text2):\n",
    "    return levenshtein_distance(text1, text2)\n",
    "\n",
    "# Load the CSV file with test sentences\n",
    "df = pd.read_csv('testsätze.csv')\n",
    "\n",
    "# Prepare results\n",
    "results = []\n",
    "\n",
    "# Iterate over each row to compare the sentences\n",
    "for index, row in df.iterrows():\n",
    "    # Compare Satz 1 with Satz 2\n",
    "    satz1 = row.get('Satz 1', \"\")\n",
    "    satz2 = row.get('Satz 2', \"\")\n",
    "    satz3 = row.get('Satz 3', \"\")\n",
    "\n",
    "    comparisons = [(\"Satz 1 mit Satz 2\", satz1, satz2), \n",
    "                   (\"Satz 1 mit Satz 3\", satz1, satz3),\n",
    "                   (\"Satz 2 mit Satz 3\", satz2, satz3)]\n",
    "    \n",
    "    for comparison_label, text1, text2 in comparisons:\n",
    "        if not text1 or not text2:\n",
    "            continue\n",
    "        \n",
    "        start_time = time.perf_counter()\n",
    "        levenshtein_sim = levenshtein_similarity(text1, text2)\n",
    "        end_time = time.perf_counter()\n",
    "        \n",
    "        elapsed_time_ms = round((end_time - start_time) * 1000, 9)\n",
    "        \n",
    "        results.append({\n",
    "            \"Vergleich\": comparison_label,\n",
    "            \"Levenshtein_Distanz\": levenshtein_sim,\n",
    "            \"Berechnungszeit (ms)\": elapsed_time_ms\n",
    "        })\n",
    "\n",
    "# Create a DataFrame from results\n",
    "results_df = pd.DataFrame(results)\n",
    "\n",
    "# Erstelle einen DataFrame aus den Ergebnissen\n",
    "df = pd.DataFrame(results)\n",
    "\n",
    "print(df.to_string(index=False))"
   ],
   "metadata": {
    "collapsed": false,
    "ExecuteTime": {
     "end_time": "2024-09-08T22:18:38.957542Z",
     "start_time": "2024-09-08T22:18:38.936430Z"
    }
   },
   "id": "d4672292e80193d0",
   "execution_count": 13
  },
  {
   "cell_type": "code",
   "outputs": [],
   "source": [
    "\n"
   ],
   "metadata": {
    "collapsed": false
   },
   "id": "e9cb105fa649f86b",
   "execution_count": null
  }
 ],
 "metadata": {
  "kernelspec": {
   "display_name": "Python 3",
   "language": "python",
   "name": "python3"
  },
  "language_info": {
   "codemirror_mode": {
    "name": "ipython",
    "version": 2
   },
   "file_extension": ".py",
   "mimetype": "text/x-python",
   "name": "python",
   "nbconvert_exporter": "python",
   "pygments_lexer": "ipython2",
   "version": "2.7.6"
  }
 },
 "nbformat": 4,
 "nbformat_minor": 5
}
